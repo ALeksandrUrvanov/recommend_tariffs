{
 "cells": [
  {
   "cell_type": "markdown",
   "metadata": {},
   "source": [
    "# Рекомендация тарифов"
   ]
  },
  {
   "cell_type": "markdown",
   "metadata": {},
   "source": [
    "В вашем распоряжении данные о поведении клиентов, которые уже перешли на эти тарифы . Нужно построить модель для задачи классификации, которая выберет подходящий тариф. \n",
    "\n",
    "Постройте модель с максимально большим значением *accuracy*. Чтобы сдать проект успешно, нужно довести долю правильных ответов по крайней мере до 0.75. Проверьте *accuracy* на тестовой выборке самостоятельно."
   ]
  },
  {
   "cell_type": "markdown",
   "metadata": {},
   "source": [
    "## Откройте и изучите файл"
   ]
  },
  {
   "cell_type": "code",
   "execution_count": 1,
   "metadata": {},
   "outputs": [
    {
     "data": {
      "text/html": [
       "<div>\n",
       "<style scoped>\n",
       "    .dataframe tbody tr th:only-of-type {\n",
       "        vertical-align: middle;\n",
       "    }\n",
       "\n",
       "    .dataframe tbody tr th {\n",
       "        vertical-align: top;\n",
       "    }\n",
       "\n",
       "    .dataframe thead th {\n",
       "        text-align: right;\n",
       "    }\n",
       "</style>\n",
       "<table border=\"1\" class=\"dataframe\">\n",
       "  <thead>\n",
       "    <tr style=\"text-align: right;\">\n",
       "      <th></th>\n",
       "      <th>calls</th>\n",
       "      <th>minutes</th>\n",
       "      <th>messages</th>\n",
       "      <th>mb_used</th>\n",
       "      <th>is_ultra</th>\n",
       "    </tr>\n",
       "  </thead>\n",
       "  <tbody>\n",
       "    <tr>\n",
       "      <th>0</th>\n",
       "      <td>40.0</td>\n",
       "      <td>311.90</td>\n",
       "      <td>83.0</td>\n",
       "      <td>19915.42</td>\n",
       "      <td>0</td>\n",
       "    </tr>\n",
       "    <tr>\n",
       "      <th>1</th>\n",
       "      <td>85.0</td>\n",
       "      <td>516.75</td>\n",
       "      <td>56.0</td>\n",
       "      <td>22696.96</td>\n",
       "      <td>0</td>\n",
       "    </tr>\n",
       "    <tr>\n",
       "      <th>2</th>\n",
       "      <td>77.0</td>\n",
       "      <td>467.66</td>\n",
       "      <td>86.0</td>\n",
       "      <td>21060.45</td>\n",
       "      <td>0</td>\n",
       "    </tr>\n",
       "    <tr>\n",
       "      <th>3</th>\n",
       "      <td>106.0</td>\n",
       "      <td>745.53</td>\n",
       "      <td>81.0</td>\n",
       "      <td>8437.39</td>\n",
       "      <td>1</td>\n",
       "    </tr>\n",
       "    <tr>\n",
       "      <th>4</th>\n",
       "      <td>66.0</td>\n",
       "      <td>418.74</td>\n",
       "      <td>1.0</td>\n",
       "      <td>14502.75</td>\n",
       "      <td>0</td>\n",
       "    </tr>\n",
       "    <tr>\n",
       "      <th>...</th>\n",
       "      <td>...</td>\n",
       "      <td>...</td>\n",
       "      <td>...</td>\n",
       "      <td>...</td>\n",
       "      <td>...</td>\n",
       "    </tr>\n",
       "    <tr>\n",
       "      <th>3209</th>\n",
       "      <td>122.0</td>\n",
       "      <td>910.98</td>\n",
       "      <td>20.0</td>\n",
       "      <td>35124.90</td>\n",
       "      <td>1</td>\n",
       "    </tr>\n",
       "    <tr>\n",
       "      <th>3210</th>\n",
       "      <td>25.0</td>\n",
       "      <td>190.36</td>\n",
       "      <td>0.0</td>\n",
       "      <td>3275.61</td>\n",
       "      <td>0</td>\n",
       "    </tr>\n",
       "    <tr>\n",
       "      <th>3211</th>\n",
       "      <td>97.0</td>\n",
       "      <td>634.44</td>\n",
       "      <td>70.0</td>\n",
       "      <td>13974.06</td>\n",
       "      <td>0</td>\n",
       "    </tr>\n",
       "    <tr>\n",
       "      <th>3212</th>\n",
       "      <td>64.0</td>\n",
       "      <td>462.32</td>\n",
       "      <td>90.0</td>\n",
       "      <td>31239.78</td>\n",
       "      <td>0</td>\n",
       "    </tr>\n",
       "    <tr>\n",
       "      <th>3213</th>\n",
       "      <td>80.0</td>\n",
       "      <td>566.09</td>\n",
       "      <td>6.0</td>\n",
       "      <td>29480.52</td>\n",
       "      <td>1</td>\n",
       "    </tr>\n",
       "  </tbody>\n",
       "</table>\n",
       "<p>3214 rows × 5 columns</p>\n",
       "</div>"
      ],
      "text/plain": [
       "      calls  minutes  messages   mb_used  is_ultra\n",
       "0      40.0   311.90      83.0  19915.42         0\n",
       "1      85.0   516.75      56.0  22696.96         0\n",
       "2      77.0   467.66      86.0  21060.45         0\n",
       "3     106.0   745.53      81.0   8437.39         1\n",
       "4      66.0   418.74       1.0  14502.75         0\n",
       "...     ...      ...       ...       ...       ...\n",
       "3209  122.0   910.98      20.0  35124.90         1\n",
       "3210   25.0   190.36       0.0   3275.61         0\n",
       "3211   97.0   634.44      70.0  13974.06         0\n",
       "3212   64.0   462.32      90.0  31239.78         0\n",
       "3213   80.0   566.09       6.0  29480.52         1\n",
       "\n",
       "[3214 rows x 5 columns]"
      ]
     },
     "metadata": {},
     "output_type": "display_data"
    },
    {
     "name": "stdout",
     "output_type": "stream",
     "text": [
      "<class 'pandas.core.frame.DataFrame'>\n",
      "RangeIndex: 3214 entries, 0 to 3213\n",
      "Data columns (total 5 columns):\n",
      " #   Column    Non-Null Count  Dtype  \n",
      "---  ------    --------------  -----  \n",
      " 0   calls     3214 non-null   float64\n",
      " 1   minutes   3214 non-null   float64\n",
      " 2   messages  3214 non-null   float64\n",
      " 3   mb_used   3214 non-null   float64\n",
      " 4   is_ultra  3214 non-null   int64  \n",
      "dtypes: float64(4), int64(1)\n",
      "memory usage: 125.7 KB\n"
     ]
    }
   ],
   "source": [
    "# импортируем необходимые для исследования библиотеки\n",
    "import pandas as pd\n",
    "from sklearn.tree import DecisionTreeRegressor\n",
    "from sklearn.tree import DecisionTreeClassifier\n",
    "from sklearn.ensemble import RandomForestRegressor\n",
    "from sklearn.ensemble import RandomForestClassifier\n",
    "from sklearn.linear_model import LogisticRegression\n",
    "from sklearn.linear_model import LinearRegression\n",
    "from sklearn.model_selection import train_test_split\n",
    "from sklearn.metrics import mean_squared_error\n",
    "from sklearn.metrics import accuracy_score\n",
    "from sklearn.dummy import DummyClassifier\n",
    "from tqdm import tqdm\n",
    "\n",
    "# открываем и читаем файл\n",
    "df = pd.read_csv('/datasets/users_behavior.csv')\n",
    "display(df)\n",
    "df.info()"
   ]
  },
  {
   "cell_type": "markdown",
   "metadata": {},
   "source": [
    "##### Вывод"
   ]
  },
  {
   "cell_type": "markdown",
   "metadata": {},
   "source": [
    "Данные о абонентах состоят из 5 колонок:\n",
    "   - сalls — количество звонков,\n",
    "   - minutes — суммарная длительность звонков в минутах,\n",
    "   - messages — количество sms-сообщений,\n",
    "   - mb_used — израсходованный интернет-трафик в Мб,\n",
    "   - is_ultra — каким тарифом пользовался в течение месяца («Ультра» — 1, «Смарт» — 0).\n",
    "   \n",
    "Количество абонентов 3214. Предобработка данных не требуется.\n",
    "   "
   ]
  },
  {
   "cell_type": "code",
   "execution_count": 2,
   "metadata": {},
   "outputs": [
    {
     "data": {
      "text/html": [
       "<div>\n",
       "<style scoped>\n",
       "    .dataframe tbody tr th:only-of-type {\n",
       "        vertical-align: middle;\n",
       "    }\n",
       "\n",
       "    .dataframe tbody tr th {\n",
       "        vertical-align: top;\n",
       "    }\n",
       "\n",
       "    .dataframe thead th {\n",
       "        text-align: right;\n",
       "    }\n",
       "</style>\n",
       "<table border=\"1\" class=\"dataframe\">\n",
       "  <thead>\n",
       "    <tr style=\"text-align: right;\">\n",
       "      <th></th>\n",
       "      <th>calls</th>\n",
       "      <th>minutes</th>\n",
       "      <th>messages</th>\n",
       "      <th>mb_used</th>\n",
       "      <th>is_ultra</th>\n",
       "    </tr>\n",
       "  </thead>\n",
       "  <tbody>\n",
       "    <tr>\n",
       "      <th>calls</th>\n",
       "      <td>1.000000</td>\n",
       "      <td>0.978684</td>\n",
       "      <td>0.155032</td>\n",
       "      <td>0.253886</td>\n",
       "      <td>0.160549</td>\n",
       "    </tr>\n",
       "    <tr>\n",
       "      <th>minutes</th>\n",
       "      <td>0.978684</td>\n",
       "      <td>1.000000</td>\n",
       "      <td>0.153784</td>\n",
       "      <td>0.248818</td>\n",
       "      <td>0.159991</td>\n",
       "    </tr>\n",
       "    <tr>\n",
       "      <th>messages</th>\n",
       "      <td>0.155032</td>\n",
       "      <td>0.153784</td>\n",
       "      <td>1.000000</td>\n",
       "      <td>0.141999</td>\n",
       "      <td>0.106537</td>\n",
       "    </tr>\n",
       "    <tr>\n",
       "      <th>mb_used</th>\n",
       "      <td>0.253886</td>\n",
       "      <td>0.248818</td>\n",
       "      <td>0.141999</td>\n",
       "      <td>1.000000</td>\n",
       "      <td>0.154989</td>\n",
       "    </tr>\n",
       "    <tr>\n",
       "      <th>is_ultra</th>\n",
       "      <td>0.160549</td>\n",
       "      <td>0.159991</td>\n",
       "      <td>0.106537</td>\n",
       "      <td>0.154989</td>\n",
       "      <td>1.000000</td>\n",
       "    </tr>\n",
       "  </tbody>\n",
       "</table>\n",
       "</div>"
      ],
      "text/plain": [
       "             calls   minutes  messages   mb_used  is_ultra\n",
       "calls     1.000000  0.978684  0.155032  0.253886  0.160549\n",
       "minutes   0.978684  1.000000  0.153784  0.248818  0.159991\n",
       "messages  0.155032  0.153784  1.000000  0.141999  0.106537\n",
       "mb_used   0.253886  0.248818  0.141999  1.000000  0.154989\n",
       "is_ultra  0.160549  0.159991  0.106537  0.154989  1.000000"
      ]
     },
     "execution_count": 2,
     "metadata": {},
     "output_type": "execute_result"
    }
   ],
   "source": [
    "# проверяем мультиколлинеарность модели\n",
    "df.corr(method='spearman')"
   ]
  },
  {
   "cell_type": "markdown",
   "metadata": {},
   "source": [
    "## Разбейте данные на выборки"
   ]
  },
  {
   "cell_type": "code",
   "execution_count": 3,
   "metadata": {},
   "outputs": [],
   "source": [
    "# извлекаем признаки\n",
    "features = df.drop(['is_ultra'], axis = 1)\n",
    "# извлекаем целевой признак\n",
    "target = df['is_ultra']"
   ]
  },
  {
   "cell_type": "markdown",
   "metadata": {},
   "source": [
    "Разделим данные на обучающую, валидационную и тестовую выборки в соотношении 3:1:1. Валидационная выборка нужна для проверки наших моделей во время их точной настройки, тестовая — в качестве окончательного датасета для сравнения моделей и выбора лучшей."
   ]
  },
  {
   "cell_type": "code",
   "execution_count": 4,
   "metadata": {},
   "outputs": [],
   "source": [
    "# выделяем 60% данных для обучающей выборки, остальные данные для тестовой и валидационной.\n",
    "features_train, features_test, target_train, target_test = train_test_split(features, \n",
    "                                                                            target, test_size = 0.4, \n",
    "                                                                            random_state = 12345)\n",
    "# разделяем тестовую и валидационную выборку часть на равные части \n",
    "features_valid, features_test, target_valid, target_test = train_test_split(features_test, \n",
    "                                                                            target_test, test_size = 0.5, \n",
    "                                                                            random_state = 12345)\n"
   ]
  },
  {
   "cell_type": "code",
   "execution_count": 5,
   "metadata": {},
   "outputs": [
    {
     "name": "stdout",
     "output_type": "stream",
     "text": [
      "(1928, 4)\n",
      "(1928,)\n"
     ]
    }
   ],
   "source": [
    "# размер обучающей выборки\n",
    "print(features_train.shape)\n",
    "print(target_train.shape)"
   ]
  },
  {
   "cell_type": "code",
   "execution_count": 6,
   "metadata": {},
   "outputs": [
    {
     "name": "stdout",
     "output_type": "stream",
     "text": [
      "(643, 4)\n",
      "(643,)\n"
     ]
    }
   ],
   "source": [
    "# размер валидационной выборки\n",
    "print(features_valid.shape)\n",
    "print(target_valid.shape)"
   ]
  },
  {
   "cell_type": "code",
   "execution_count": 7,
   "metadata": {},
   "outputs": [
    {
     "name": "stdout",
     "output_type": "stream",
     "text": [
      "(643, 4)\n",
      "(643,)\n"
     ]
    }
   ],
   "source": [
    "# размер тестовой выборки\n",
    "print(features_test.shape)\n",
    "print(target_test.shape)"
   ]
  },
  {
   "cell_type": "markdown",
   "metadata": {},
   "source": [
    "##### Вывод"
   ]
  },
  {
   "cell_type": "markdown",
   "metadata": {},
   "source": [
    "Разбили данные на обучающую, валидационную и тестовую выборки в соотношении 3:1:1. Валидационная выборка нужна для проверки наших моделей во время их точной настройки, тестовая — в качестве окончательного датасета для сравнения моделей и выбора лучшей."
   ]
  },
  {
   "cell_type": "markdown",
   "metadata": {},
   "source": [
    "## Исследуйте модели"
   ]
  },
  {
   "cell_type": "markdown",
   "metadata": {},
   "source": [
    "#### DecisionTreeRegressor"
   ]
  },
  {
   "cell_type": "code",
   "execution_count": 8,
   "metadata": {},
   "outputs": [
    {
     "name": "stderr",
     "output_type": "stream",
     "text": [
      "100%|██████████| 10/10 [00:00<00:00, 86.13it/s]"
     ]
    },
    {
     "name": "stdout",
     "output_type": "stream",
     "text": [
      "Accuracy наилучшей модели на валидационной выборке =  0.7853810264385692 при \"глубине дерева\" 3 .\n"
     ]
    },
    {
     "name": "stderr",
     "output_type": "stream",
     "text": [
      "\n"
     ]
    }
   ],
   "source": [
    "# вводим необходимые переменные \n",
    "best_model_dtc = None\n",
    "best_result_dtc = 0\n",
    "best_depth_dtc = 0\n",
    "\n",
    "for depth in tqdm(range (1, 11)):\n",
    "    # инициализируеем модель\n",
    "    model_dtc = DecisionTreeClassifier(random_state = 12345, max_depth = depth)\n",
    "    # обучаем модель на обучающей выборке\n",
    "    model_dtc.fit(features_train, target_train)\n",
    "    # находим предсказания на валидационной выборке\n",
    "    predictions_valid_dtc = model_dtc.predict(features_valid)\n",
    "    # находим долю правильных ответов\n",
    "    result_dtc = accuracy_score(target_valid, predictions_valid_dtc)\n",
    "    # находим лучшую долю правильных ответов взависимости от максимальной \"глубины дерева\"\n",
    "    if result_dtc > best_result_dtc:\n",
    "        best_model_dtc = model_dtc\n",
    "        best_result_dtc = result_dtc\n",
    "        best_depth_dtc = depth\n",
    "print('Accuracy наилучшей модели на валидационной выборке = ',best_result_dtc, 'при \"глубине дерева\"', best_depth_dtc,'.')        \n",
    "    \n"
   ]
  },
  {
   "cell_type": "markdown",
   "metadata": {},
   "source": [
    "#### RandomForestClassifier"
   ]
  },
  {
   "cell_type": "code",
   "execution_count": 9,
   "metadata": {},
   "outputs": [
    {
     "name": "stderr",
     "output_type": "stream",
     "text": [
      "100%|██████████| 10/10 [00:04<00:00,  2.19it/s]"
     ]
    },
    {
     "name": "stdout",
     "output_type": "stream",
     "text": [
      "Accuracy наилучшей модели на валидационной выборке = 0.7853810264385692 , количество деревьев : 8 , при \"глубине дерева\": 3 .\n"
     ]
    },
    {
     "name": "stderr",
     "output_type": "stream",
     "text": [
      "\n"
     ]
    }
   ],
   "source": [
    "# при количестве деревьев от 1 до 10, с глубиной от 1 до 10\n",
    "# вводим необходимые переменные \n",
    "best_model_rfc = None\n",
    "best_result_rfc = 0\n",
    "best_depth_rfc = 0\n",
    "best_est_rfc = 0\n",
    "\n",
    "for est in  tqdm(range (1, 11)):\n",
    "    for depth in range(1, 11):\n",
    "        # инициализируем модель\n",
    "        model_rfc = RandomForestClassifier(random_state = 12345, n_estimators = est, max_depth = depth)\n",
    "        # обучаем модель на обучающей выборке\n",
    "        model_rfc.fit(features_train, target_train)\n",
    "        # находим предсказания на валидационной выборке\n",
    "        predictions_valid_rfc = model_rfc.predict(features_valid)\n",
    "        # находим долю правильных ответов\n",
    "        result_rfc = accuracy_score(target_valid, predictions_valid_rfc)\n",
    "        # находим лучшую долю правильных ответов взависимости от количества деревьев и максимальной \"глубины дерева\"\n",
    "        if result_rfc > best_result_rfc:\n",
    "            best_model_rfc = model_rfc\n",
    "            best_result_rfc = result_rfc\n",
    "            best_depth_rfc = depth\n",
    "            best_est_rfc = est\n",
    "            \n",
    "print('Accuracy наилучшей модели на валидационной выборке =',best_result_dtc, ', количество деревьев :',best_est_rfc, ', при \"глубине дерева\":', best_depth_dtc,'.')        \n",
    "    \n"
   ]
  },
  {
   "cell_type": "code",
   "execution_count": 10,
   "metadata": {},
   "outputs": [
    {
     "name": "stderr",
     "output_type": "stream",
     "text": [
      "100%|██████████| 30/30 [00:23<00:00,  1.28it/s]"
     ]
    },
    {
     "name": "stdout",
     "output_type": "stream",
     "text": [
      "Accuracy наилучшей модели на валидационной выборке = 0.7853810264385692 , количество деревьев : 26 , при \"глубине дерева\": 3 .\n"
     ]
    },
    {
     "name": "stderr",
     "output_type": "stream",
     "text": [
      "\n"
     ]
    }
   ],
   "source": [
    "# при количестве деревьев от 1 до 30, с глубиной от 1 до 10\n",
    "# вводим необходимые переменные \n",
    "best_model_rfc = None\n",
    "best_result_rfc = 0\n",
    "best_depth_rfc = 0\n",
    "best_est_rfc = 0\n",
    "\n",
    "for est in  tqdm(range (1, 31)):\n",
    "    for depth in range(1, 11):\n",
    "        # инициализируем модель\n",
    "        model_rfc = RandomForestClassifier(random_state = 12345, n_estimators = est, max_depth = depth)\n",
    "        # обучаем модель на обучающей выборке\n",
    "        model_rfc.fit(features_train, target_train)\n",
    "        # находим предсказания на валидационной выборке\n",
    "        predictions_valid_rfc = model_rfc.predict(features_valid)\n",
    "        # находим долю правильных ответов\n",
    "        result_rfc = accuracy_score(target_valid, predictions_valid_rfc)\n",
    "        # находим лучшую долю правильных ответов взависимости от количества деревьев и максимальной \"глубины дерева\"\n",
    "        if result_rfc > best_result_rfc:\n",
    "            best_model_rfc = model_rfc\n",
    "            best_result_rfc = result_rfc\n",
    "            best_depth_rfc = depth\n",
    "            best_est_rfc = est\n",
    "            \n",
    "print('Accuracy наилучшей модели на валидационной выборке =',best_result_dtc, ', количество деревьев :',best_est_rfc, ', при \"глубине дерева\":', best_depth_dtc,'.')        \n",
    "    \n"
   ]
  },
  {
   "cell_type": "code",
   "execution_count": 11,
   "metadata": {},
   "outputs": [
    {
     "name": "stderr",
     "output_type": "stream",
     "text": [
      "100%|██████████| 10/10 [00:06<00:00,  1.64it/s]"
     ]
    },
    {
     "name": "stdout",
     "output_type": "stream",
     "text": [
      "Accuracy наилучшей модели на валидационной выборке = 0.7853810264385692 , количество деревьев : 8 , при \"глубине дерева\": 3 .\n"
     ]
    },
    {
     "name": "stderr",
     "output_type": "stream",
     "text": [
      "\n"
     ]
    }
   ],
   "source": [
    "# при количестве деревьев от 1 до 10, с глубиной от 1 до 30\n",
    "# вводим необходимые переменные \n",
    "best_model_rfc = None\n",
    "best_result_rfc = 0\n",
    "best_depth_rfc = 0\n",
    "best_est_rfc = 0\n",
    "\n",
    "for est in  tqdm(range (1, 11)):\n",
    "    for depth in range(1, 31):\n",
    "        # инициализируем модель\n",
    "        model_rfc = RandomForestClassifier(random_state = 12345, n_estimators = est, max_depth = depth)\n",
    "        # обучаем модель на обучающей выборке\n",
    "        model_rfc.fit(features_train, target_train)\n",
    "        # находим предсказания на валидационной выборке\n",
    "        predictions_valid_rfc = model_rfc.predict(features_valid)\n",
    "        # находим долю правильных ответов\n",
    "        result_rfc = accuracy_score(target_valid, predictions_valid_rfc)\n",
    "        # находим лучшую долю правильных ответов взависимости от количества деревьев и максимальной \"глубины дерева\"\n",
    "        if result_rfc > best_result_rfc:\n",
    "            best_model_rfc = model_rfc\n",
    "            best_result_rfc = result_rfc\n",
    "            best_depth_rfc = depth\n",
    "            best_est_rfc = est\n",
    "            \n",
    "print('Accuracy наилучшей модели на валидационной выборке =',best_result_dtc, ', количество деревьев :',best_est_rfc, ', при \"глубине дерева\":', best_depth_dtc,'.')        \n",
    "    \n"
   ]
  },
  {
   "cell_type": "markdown",
   "metadata": {},
   "source": [
    "#### Logistic Regression"
   ]
  },
  {
   "cell_type": "code",
   "execution_count": 12,
   "metadata": {},
   "outputs": [
    {
     "name": "stdout",
     "output_type": "stream",
     "text": [
      "Accuracy наилучшей модели на валидационной выборке = 0.7107309486780715 .\n"
     ]
    }
   ],
   "source": [
    "# инициализируем модель\n",
    "model_lr = LogisticRegression(random_state=12345, solver='lbfgs')\n",
    "# обучаем модель на обучающей выборке\n",
    "model_lr.fit(features_train, target_train)\n",
    "# находим предсказания на валидационной выборке\n",
    "predictions_valid_lr = model_lr.predict(features_valid)\n",
    "# находим долю правильных ответов\n",
    "accuracy_lr = accuracy_score(predictions_valid_lr, target_valid)\n",
    "\n",
    "print('Accuracy наилучшей модели на валидационной выборке =', accuracy_lr,'.')        \n",
    "       "
   ]
  },
  {
   "cell_type": "markdown",
   "metadata": {},
   "source": [
    "##### Вывод"
   ]
  },
  {
   "cell_type": "markdown",
   "metadata": {},
   "source": [
    "Наилучший и равный результат Accuracy получили модели решающего дерева и случайного леса = 0.7853810264385692. По производительности модель решающего дерева быстрее, чем случайного леса  173.77it/s против 6.03it/s. Лучшая модель случайного леса с количеством деревьев 8 и глубиной деревьев 3. Результат логической регрессии немногим хуже 0.7107309486780715."
   ]
  },
  {
   "cell_type": "markdown",
   "metadata": {},
   "source": [
    "## Проверьте модель на тестовой выборке"
   ]
  },
  {
   "cell_type": "markdown",
   "metadata": {},
   "source": [
    "Модель решающего дерева более эффективна, чем модель случайного леса 173.77it/s против 6.03it/s, поэтому проверим её на тестовой выборке."
   ]
  },
  {
   "cell_type": "code",
   "execution_count": 13,
   "metadata": {},
   "outputs": [
    {
     "name": "stdout",
     "output_type": "stream",
     "text": [
      "Accuracy наилучшей модели на тестовой выборке =  0.7791601866251944 .\n"
     ]
    }
   ],
   "source": [
    "# инициализируем модель\n",
    "model_dtc = DecisionTreeClassifier(random_state = 12345, max_depth = 3)\n",
    "# обучаем модель на обучающей выборке\n",
    "model_dtc.fit(features_train, target_train)\n",
    "# находим предсказания на тестовой выборке\n",
    "predictions_test_dtc = model_dtc.predict(features_test)\n",
    "# находим долю правильных ответов на тестовой выборке\n",
    "result_test_dtc = accuracy_score(target_test, predictions_test_dtc)\n",
    "\n",
    "print('Accuracy наилучшей модели на тестовой выборке = ',result_test_dtc,'.')  "
   ]
  },
  {
   "cell_type": "markdown",
   "metadata": {},
   "source": [
    "##### Вывод"
   ]
  },
  {
   "cell_type": "markdown",
   "metadata": {},
   "source": [
    "На тестовой выборке accuracy показала результат 0.7791601866251944, что удовлетворяет поставленной задаче, что нужно довести долю правильных ответов по крайней мере до 0.75."
   ]
  },
  {
   "cell_type": "markdown",
   "metadata": {},
   "source": [
    "## (бонус) Проверьте модели на адекватность"
   ]
  },
  {
   "cell_type": "markdown",
   "metadata": {},
   "source": [
    "Чтобы оценить адекватность модели будем использовать DummyClassifier "
   ]
  },
  {
   "cell_type": "code",
   "execution_count": 14,
   "metadata": {},
   "outputs": [
    {
     "name": "stdout",
     "output_type": "stream",
     "text": [
      "Accuracy работоспособности модели на валидационной выборке =  0.7060653188180405\n"
     ]
    }
   ],
   "source": [
    "# инициализируем модель с \"most_frequent\",  предсказывающая наиболее частую метку в обучающем наборе\n",
    "model_ad = DummyClassifier(strategy='most_frequent', random_state=12345)\n",
    "# обучаем модель на обучающей выборке\n",
    "model_ad = model_ad.fit(features_train, target_train)\n",
    "# находим долю правильных ответов валидационной выборке\n",
    "result_ad = model_ad.score(features_valid, target_valid)\n",
    "\n",
    "print('Accuracy работоспособности модели на валидационной выборке = ', result_ad)"
   ]
  },
  {
   "cell_type": "markdown",
   "metadata": {},
   "source": [
    "##### Вывод"
   ]
  },
  {
   "cell_type": "markdown",
   "metadata": {},
   "source": [
    "С данным Accuracy можем считать модель работоспособной (адекватной)."
   ]
  },
  {
   "cell_type": "markdown",
   "metadata": {},
   "source": [
    "## Общий вывод"
   ]
  },
  {
   "cell_type": "markdown",
   "metadata": {},
   "source": [
    "- Данные о абонентах состоят из 5 колонок:\n",
    "  - сalls — количество звонков,\n",
    "  - minutes — суммарная длительность звонков в минутах,\n",
    "  - messages — количество sms-сообщений,\n",
    "  - mb_used — израсходованный интернет-трафик в Мб,\n",
    "  - is_ultra — каким тарифом пользовался в течение месяца («Ультра» — 1, «Смарт» — 0).\n",
    "  \n",
    "- Количество исследуемых абонентов 3214. \n",
    "- Данные были разбиты на обучающую, валидационную и тестовую выборки в соотношении 3:1:1.\n",
    "\n",
    "- Наилучший и равный результат Accuracy получили модели решающего дерева и случайного леса = 0.7853810264385692. По производительности модель решающего дерева быстрее, чем случайного леса 173.77it/s против 6.03it/s. Лучшая модель случайного леса при подборе гиперпараметров с количеством деревьев 8 и глубиной деревьев 3. Результат логической регрессии немногим хуже 0.7107309486780715.\n",
    "\n",
    "- На тестовой выборке accuracy показала результат 0.7791601866251944, что удовлетворяет поставленной задаче, что нужно довести долю правильных ответов по крайней мере до 0.75.\n",
    "\n",
    "- При проверке модели на адекватность Accuracy = 0.7060653188180405, что позволяет считать модель работоспособной (адекватной)."
   ]
  }
 ],
 "metadata": {
  "ExecuteTimeLog": [
   {
    "duration": 1096,
    "start_time": "2022-12-23T19:37:21.777Z"
   },
   {
    "duration": 39,
    "start_time": "2022-12-23T19:37:42.640Z"
   },
   {
    "duration": 39,
    "start_time": "2022-12-23T19:46:40.348Z"
   },
   {
    "duration": 64,
    "start_time": "2022-12-23T19:49:50.525Z"
   },
   {
    "duration": 91,
    "start_time": "2022-12-23T21:01:35.172Z"
   },
   {
    "duration": 6,
    "start_time": "2022-12-23T21:01:51.660Z"
   },
   {
    "duration": 6,
    "start_time": "2022-12-23T21:02:27.554Z"
   },
   {
    "duration": 48,
    "start_time": "2022-12-23T21:11:17.322Z"
   },
   {
    "duration": 4,
    "start_time": "2022-12-23T21:23:52.951Z"
   },
   {
    "duration": 6,
    "start_time": "2022-12-23T21:34:14.816Z"
   },
   {
    "duration": 3,
    "start_time": "2022-12-23T21:37:44.758Z"
   },
   {
    "duration": 7,
    "start_time": "2022-12-23T21:37:45.455Z"
   },
   {
    "duration": 3,
    "start_time": "2022-12-23T21:41:04.578Z"
   },
   {
    "duration": 6,
    "start_time": "2022-12-23T21:41:05.210Z"
   },
   {
    "duration": 4,
    "start_time": "2022-12-23T21:41:05.554Z"
   },
   {
    "duration": 3,
    "start_time": "2022-12-23T21:41:05.952Z"
   },
   {
    "duration": 4,
    "start_time": "2022-12-23T21:41:06.571Z"
   },
   {
    "duration": 14,
    "start_time": "2022-12-24T15:38:47.781Z"
   },
   {
    "duration": 42,
    "start_time": "2022-12-24T15:40:19.734Z"
   },
   {
    "duration": 4,
    "start_time": "2022-12-24T15:40:22.857Z"
   },
   {
    "duration": 6,
    "start_time": "2022-12-24T15:40:23.523Z"
   },
   {
    "duration": 3,
    "start_time": "2022-12-24T15:40:23.824Z"
   },
   {
    "duration": 3,
    "start_time": "2022-12-24T15:40:24.175Z"
   },
   {
    "duration": 3,
    "start_time": "2022-12-24T15:40:24.433Z"
   },
   {
    "duration": 17,
    "start_time": "2022-12-24T15:40:26.336Z"
   },
   {
    "duration": 20,
    "start_time": "2022-12-25T10:08:12.648Z"
   },
   {
    "duration": 10,
    "start_time": "2022-12-25T14:21:11.337Z"
   },
   {
    "duration": 52,
    "start_time": "2022-12-25T14:21:53.887Z"
   },
   {
    "duration": 3,
    "start_time": "2022-12-25T14:21:55.226Z"
   },
   {
    "duration": 6,
    "start_time": "2022-12-25T14:21:55.831Z"
   },
   {
    "duration": 4,
    "start_time": "2022-12-25T14:21:56.124Z"
   },
   {
    "duration": 4,
    "start_time": "2022-12-25T14:21:56.402Z"
   },
   {
    "duration": 3,
    "start_time": "2022-12-25T14:21:56.726Z"
   },
   {
    "duration": 25,
    "start_time": "2022-12-25T14:22:00.454Z"
   },
   {
    "duration": 13,
    "start_time": "2022-12-25T14:26:19.726Z"
   },
   {
    "duration": 9,
    "start_time": "2022-12-25T14:27:54.874Z"
   },
   {
    "duration": 56,
    "start_time": "2022-12-25T14:28:15.200Z"
   },
   {
    "duration": 1138,
    "start_time": "2022-12-25T14:28:33.641Z"
   },
   {
    "duration": 4,
    "start_time": "2022-12-25T14:28:34.781Z"
   },
   {
    "duration": 20,
    "start_time": "2022-12-25T14:28:34.786Z"
   },
   {
    "duration": 48,
    "start_time": "2022-12-25T14:28:34.808Z"
   },
   {
    "duration": 30,
    "start_time": "2022-12-25T14:28:34.858Z"
   },
   {
    "duration": 39,
    "start_time": "2022-12-25T14:28:34.890Z"
   },
   {
    "duration": 138,
    "start_time": "2022-12-25T14:28:34.931Z"
   },
   {
    "duration": 16,
    "start_time": "2022-12-25T14:28:51.239Z"
   },
   {
    "duration": 74,
    "start_time": "2022-12-25T14:29:28.611Z"
   },
   {
    "duration": 61,
    "start_time": "2022-12-25T14:30:34.237Z"
   },
   {
    "duration": 79,
    "start_time": "2022-12-25T14:32:02.809Z"
   },
   {
    "duration": 80,
    "start_time": "2022-12-25T14:53:10.288Z"
   },
   {
    "duration": 80,
    "start_time": "2022-12-25T14:53:20.188Z"
   },
   {
    "duration": 89,
    "start_time": "2022-12-25T14:54:02.074Z"
   },
   {
    "duration": 70,
    "start_time": "2022-12-25T14:54:07.656Z"
   },
   {
    "duration": 61,
    "start_time": "2022-12-25T14:54:11.826Z"
   },
   {
    "duration": 80,
    "start_time": "2022-12-25T15:04:45.773Z"
   },
   {
    "duration": 69,
    "start_time": "2022-12-25T15:04:53.477Z"
   },
   {
    "duration": 74,
    "start_time": "2022-12-25T15:05:04.631Z"
   },
   {
    "duration": 68,
    "start_time": "2022-12-25T15:06:48.863Z"
   },
   {
    "duration": 78,
    "start_time": "2022-12-25T15:07:00.237Z"
   },
   {
    "duration": 66,
    "start_time": "2022-12-25T15:07:48.789Z"
   },
   {
    "duration": 13,
    "start_time": "2022-12-25T15:18:30.431Z"
   },
   {
    "duration": 43,
    "start_time": "2022-12-25T15:19:11.100Z"
   },
   {
    "duration": 1631,
    "start_time": "2022-12-25T15:19:16.129Z"
   },
   {
    "duration": 1704,
    "start_time": "2022-12-25T15:20:52.663Z"
   },
   {
    "duration": 1695,
    "start_time": "2022-12-25T15:21:00.585Z"
   },
   {
    "duration": 1544,
    "start_time": "2022-12-25T15:21:14.625Z"
   },
   {
    "duration": 1562,
    "start_time": "2022-12-25T15:21:44.436Z"
   },
   {
    "duration": 1119,
    "start_time": "2022-12-25T15:22:33.275Z"
   },
   {
    "duration": 1564,
    "start_time": "2022-12-25T15:23:00.949Z"
   },
   {
    "duration": 1719,
    "start_time": "2022-12-25T15:25:47.934Z"
   },
   {
    "duration": 89,
    "start_time": "2022-12-25T15:26:13.033Z"
   },
   {
    "duration": 76,
    "start_time": "2022-12-25T15:26:34.960Z"
   },
   {
    "duration": 65,
    "start_time": "2022-12-25T15:26:44.882Z"
   },
   {
    "duration": 1573,
    "start_time": "2022-12-25T15:28:12.103Z"
   },
   {
    "duration": 1636,
    "start_time": "2022-12-25T15:28:27.538Z"
   },
   {
    "duration": 59,
    "start_time": "2022-12-25T15:32:58.335Z"
   },
   {
    "duration": 1497,
    "start_time": "2022-12-25T15:33:01.327Z"
   },
   {
    "duration": 1553,
    "start_time": "2022-12-25T15:45:38.311Z"
   },
   {
    "duration": 9,
    "start_time": "2022-12-25T15:50:39.080Z"
   },
   {
    "duration": 45,
    "start_time": "2022-12-25T15:51:26.310Z"
   },
   {
    "duration": 27,
    "start_time": "2022-12-25T15:51:30.596Z"
   },
   {
    "duration": 28,
    "start_time": "2022-12-25T15:51:37.335Z"
   },
   {
    "duration": 29,
    "start_time": "2022-12-25T15:52:48.111Z"
   },
   {
    "duration": 28,
    "start_time": "2022-12-25T15:53:12.646Z"
   },
   {
    "duration": 44,
    "start_time": "2022-12-25T15:53:21.388Z"
   },
   {
    "duration": 4,
    "start_time": "2022-12-25T15:53:22.545Z"
   },
   {
    "duration": 7,
    "start_time": "2022-12-25T15:53:23.071Z"
   },
   {
    "duration": 4,
    "start_time": "2022-12-25T15:53:23.310Z"
   },
   {
    "duration": 4,
    "start_time": "2022-12-25T15:53:23.849Z"
   },
   {
    "duration": 4,
    "start_time": "2022-12-25T15:53:24.266Z"
   },
   {
    "duration": 62,
    "start_time": "2022-12-25T15:53:26.156Z"
   },
   {
    "duration": 1570,
    "start_time": "2022-12-25T15:53:27.451Z"
   },
   {
    "duration": 28,
    "start_time": "2022-12-25T15:53:29.023Z"
   },
   {
    "duration": 151,
    "start_time": "2022-12-25T15:53:38.014Z"
   },
   {
    "duration": 147,
    "start_time": "2022-12-25T15:53:58.367Z"
   },
   {
    "duration": 22,
    "start_time": "2022-12-25T16:07:45.622Z"
   },
   {
    "duration": 81,
    "start_time": "2022-12-25T16:08:24.445Z"
   },
   {
    "duration": 25,
    "start_time": "2022-12-25T16:08:56.225Z"
   },
   {
    "duration": 30183,
    "start_time": "2022-12-25T16:18:58.234Z"
   },
   {
    "duration": 24,
    "start_time": "2022-12-25T16:19:28.419Z"
   },
   {
    "duration": 1583,
    "start_time": "2022-12-25T16:19:43.940Z"
   },
   {
    "duration": 1562,
    "start_time": "2022-12-25T16:23:32.033Z"
   },
   {
    "duration": 62,
    "start_time": "2022-12-25T16:23:37.616Z"
   },
   {
    "duration": 11659,
    "start_time": "2022-12-25T16:29:08.930Z"
   },
   {
    "duration": 11335,
    "start_time": "2022-12-25T16:29:56.617Z"
   },
   {
    "duration": 6089,
    "start_time": "2022-12-25T16:30:41.606Z"
   },
   {
    "duration": 43,
    "start_time": "2022-12-25T16:34:18.246Z"
   },
   {
    "duration": 4,
    "start_time": "2022-12-25T16:34:19.289Z"
   },
   {
    "duration": 6,
    "start_time": "2022-12-25T16:34:20.136Z"
   },
   {
    "duration": 3,
    "start_time": "2022-12-25T16:34:20.404Z"
   },
   {
    "duration": 3,
    "start_time": "2022-12-25T16:34:20.653Z"
   },
   {
    "duration": 4,
    "start_time": "2022-12-25T16:34:20.919Z"
   },
   {
    "duration": 44,
    "start_time": "2022-12-25T16:35:53.690Z"
   },
   {
    "duration": 4,
    "start_time": "2022-12-25T16:35:54.958Z"
   },
   {
    "duration": 6,
    "start_time": "2022-12-25T16:35:55.508Z"
   },
   {
    "duration": 4,
    "start_time": "2022-12-25T16:35:55.723Z"
   },
   {
    "duration": 3,
    "start_time": "2022-12-25T16:35:55.940Z"
   },
   {
    "duration": 4,
    "start_time": "2022-12-25T16:35:56.390Z"
   },
   {
    "duration": 64,
    "start_time": "2022-12-25T16:35:58.473Z"
   },
   {
    "duration": 1581,
    "start_time": "2022-12-25T16:36:00.840Z"
   },
   {
    "duration": 11461,
    "start_time": "2022-12-25T16:36:05.471Z"
   },
   {
    "duration": 6267,
    "start_time": "2022-12-25T16:36:25.639Z"
   },
   {
    "duration": 22,
    "start_time": "2022-12-25T16:36:38.190Z"
   },
   {
    "duration": 68,
    "start_time": "2022-12-25T16:39:49.416Z"
   },
   {
    "duration": 85,
    "start_time": "2022-12-25T16:39:54.082Z"
   },
   {
    "duration": 64,
    "start_time": "2022-12-25T16:39:56.367Z"
   },
   {
    "duration": 1667,
    "start_time": "2022-12-25T16:40:02.080Z"
   },
   {
    "duration": 12100,
    "start_time": "2022-12-25T16:40:07.235Z"
   },
   {
    "duration": 65,
    "start_time": "2022-12-25T16:45:26.003Z"
   },
   {
    "duration": 12,
    "start_time": "2022-12-25T16:52:05.056Z"
   },
   {
    "duration": 1046,
    "start_time": "2022-12-25T16:54:21.029Z"
   },
   {
    "duration": 3,
    "start_time": "2022-12-25T16:54:22.077Z"
   },
   {
    "duration": 18,
    "start_time": "2022-12-25T16:54:22.082Z"
   },
   {
    "duration": 4,
    "start_time": "2022-12-25T16:54:22.102Z"
   },
   {
    "duration": 6,
    "start_time": "2022-12-25T16:54:22.107Z"
   },
   {
    "duration": 5,
    "start_time": "2022-12-25T16:54:22.114Z"
   },
   {
    "duration": 65,
    "start_time": "2022-12-25T16:54:22.121Z"
   },
   {
    "duration": 1594,
    "start_time": "2022-12-25T16:54:22.188Z"
   },
   {
    "duration": 11429,
    "start_time": "2022-12-25T16:54:23.784Z"
   },
   {
    "duration": 6196,
    "start_time": "2022-12-25T16:54:35.215Z"
   },
   {
    "duration": 27,
    "start_time": "2022-12-25T16:54:41.413Z"
   },
   {
    "duration": 121,
    "start_time": "2022-12-25T16:54:41.441Z"
   },
   {
    "duration": 10,
    "start_time": "2022-12-25T16:56:18.439Z"
   },
   {
    "duration": 6,
    "start_time": "2022-12-25T18:31:08.464Z"
   },
   {
    "duration": 19,
    "start_time": "2022-12-25T19:38:50.213Z"
   },
   {
    "duration": 12,
    "start_time": "2022-12-25T19:47:55.120Z"
   },
   {
    "duration": 1113,
    "start_time": "2022-12-25T19:48:03.583Z"
   },
   {
    "duration": 3,
    "start_time": "2022-12-25T19:48:04.699Z"
   },
   {
    "duration": 31,
    "start_time": "2022-12-25T19:48:04.704Z"
   },
   {
    "duration": 24,
    "start_time": "2022-12-25T19:48:04.737Z"
   },
   {
    "duration": 7,
    "start_time": "2022-12-25T19:48:04.763Z"
   },
   {
    "duration": 9,
    "start_time": "2022-12-25T19:48:04.772Z"
   },
   {
    "duration": 70,
    "start_time": "2022-12-25T19:48:04.782Z"
   },
   {
    "duration": 1688,
    "start_time": "2022-12-25T19:48:04.854Z"
   },
   {
    "duration": 11799,
    "start_time": "2022-12-25T19:48:06.544Z"
   },
   {
    "duration": 6303,
    "start_time": "2022-12-25T19:48:18.345Z"
   },
   {
    "duration": 23,
    "start_time": "2022-12-25T19:48:24.649Z"
   },
   {
    "duration": 10,
    "start_time": "2022-12-25T19:48:24.674Z"
   },
   {
    "duration": 30,
    "start_time": "2022-12-25T19:48:24.686Z"
   },
   {
    "duration": 0,
    "start_time": "2022-12-25T19:52:49.774Z"
   },
   {
    "duration": 0,
    "start_time": "2022-12-25T19:58:35.372Z"
   },
   {
    "duration": 0,
    "start_time": "2022-12-25T19:58:35.374Z"
   },
   {
    "duration": 0,
    "start_time": "2022-12-25T19:58:35.375Z"
   },
   {
    "duration": 0,
    "start_time": "2022-12-25T19:58:35.376Z"
   },
   {
    "duration": 0,
    "start_time": "2022-12-25T19:58:35.378Z"
   },
   {
    "duration": 0,
    "start_time": "2022-12-25T19:58:35.379Z"
   },
   {
    "duration": 1,
    "start_time": "2022-12-25T19:58:35.380Z"
   },
   {
    "duration": 0,
    "start_time": "2022-12-25T19:58:35.383Z"
   },
   {
    "duration": 0,
    "start_time": "2022-12-25T19:58:35.384Z"
   },
   {
    "duration": 0,
    "start_time": "2022-12-25T19:58:35.385Z"
   },
   {
    "duration": 0,
    "start_time": "2022-12-25T19:58:35.387Z"
   },
   {
    "duration": 0,
    "start_time": "2022-12-25T19:58:35.389Z"
   },
   {
    "duration": 0,
    "start_time": "2022-12-25T19:58:35.413Z"
   },
   {
    "duration": 0,
    "start_time": "2022-12-25T19:58:35.414Z"
   },
   {
    "duration": 1135,
    "start_time": "2022-12-25T20:01:36.194Z"
   },
   {
    "duration": 4,
    "start_time": "2022-12-25T20:01:37.332Z"
   },
   {
    "duration": 19,
    "start_time": "2022-12-25T20:01:37.337Z"
   },
   {
    "duration": 36,
    "start_time": "2022-12-25T20:01:37.359Z"
   },
   {
    "duration": 10,
    "start_time": "2022-12-25T20:01:37.396Z"
   },
   {
    "duration": 16,
    "start_time": "2022-12-25T20:01:37.408Z"
   },
   {
    "duration": 69,
    "start_time": "2022-12-25T20:01:37.426Z"
   },
   {
    "duration": 1666,
    "start_time": "2022-12-25T20:01:37.497Z"
   },
   {
    "duration": 11904,
    "start_time": "2022-12-25T20:01:39.164Z"
   },
   {
    "duration": 6677,
    "start_time": "2022-12-25T20:01:51.070Z"
   },
   {
    "duration": 26,
    "start_time": "2022-12-25T20:01:57.749Z"
   },
   {
    "duration": 9,
    "start_time": "2022-12-25T20:01:57.777Z"
   },
   {
    "duration": 29,
    "start_time": "2022-12-25T20:01:57.787Z"
   },
   {
    "duration": 1103,
    "start_time": "2022-12-25T20:05:40.931Z"
   },
   {
    "duration": 3,
    "start_time": "2022-12-25T20:05:42.036Z"
   },
   {
    "duration": 38,
    "start_time": "2022-12-25T20:05:42.041Z"
   },
   {
    "duration": 18,
    "start_time": "2022-12-25T20:05:42.081Z"
   },
   {
    "duration": 28,
    "start_time": "2022-12-25T20:05:42.102Z"
   },
   {
    "duration": 31,
    "start_time": "2022-12-25T20:05:42.132Z"
   },
   {
    "duration": 86,
    "start_time": "2022-12-25T20:05:42.165Z"
   },
   {
    "duration": 1665,
    "start_time": "2022-12-25T20:05:42.252Z"
   },
   {
    "duration": 11879,
    "start_time": "2022-12-25T20:05:43.921Z"
   },
   {
    "duration": 6325,
    "start_time": "2022-12-25T20:05:55.802Z"
   },
   {
    "duration": 24,
    "start_time": "2022-12-25T20:06:02.128Z"
   },
   {
    "duration": 9,
    "start_time": "2022-12-25T20:06:02.154Z"
   },
   {
    "duration": 2,
    "start_time": "2022-12-25T20:06:02.164Z"
   },
   {
    "duration": 6,
    "start_time": "2022-12-25T20:06:02.168Z"
   },
   {
    "duration": 5,
    "start_time": "2022-12-25T20:07:55.651Z"
   },
   {
    "duration": 106,
    "start_time": "2022-12-25T20:20:15.455Z"
   },
   {
    "duration": 15,
    "start_time": "2022-12-25T20:20:34.939Z"
   },
   {
    "duration": 6,
    "start_time": "2022-12-25T20:20:36.583Z"
   },
   {
    "duration": 11,
    "start_time": "2022-12-25T20:20:50.095Z"
   },
   {
    "duration": 6,
    "start_time": "2022-12-25T20:20:50.937Z"
   },
   {
    "duration": 5,
    "start_time": "2022-12-25T20:20:56.564Z"
   },
   {
    "duration": 4,
    "start_time": "2022-12-25T20:22:02.941Z"
   },
   {
    "duration": 9,
    "start_time": "2022-12-25T20:28:03.280Z"
   },
   {
    "duration": 90,
    "start_time": "2022-12-25T20:32:14.677Z"
   },
   {
    "duration": 5,
    "start_time": "2022-12-25T20:32:25.972Z"
   },
   {
    "duration": 6,
    "start_time": "2022-12-25T20:32:38.505Z"
   },
   {
    "duration": 7,
    "start_time": "2022-12-25T20:32:43.537Z"
   },
   {
    "duration": 2258,
    "start_time": "2022-12-25T21:02:15.321Z"
   },
   {
    "duration": 5,
    "start_time": "2022-12-25T21:02:17.623Z"
   },
   {
    "duration": 9,
    "start_time": "2022-12-25T21:02:17.630Z"
   },
   {
    "duration": 13,
    "start_time": "2022-12-25T21:02:17.641Z"
   },
   {
    "duration": 66,
    "start_time": "2022-12-25T21:02:17.657Z"
   },
   {
    "duration": 14,
    "start_time": "2022-12-25T21:02:17.725Z"
   },
   {
    "duration": 181,
    "start_time": "2022-12-25T21:02:17.741Z"
   },
   {
    "duration": 3334,
    "start_time": "2022-12-25T21:02:17.924Z"
   },
   {
    "duration": 25589,
    "start_time": "2022-12-25T21:02:21.259Z"
   },
   {
    "duration": 12719,
    "start_time": "2022-12-25T21:02:46.850Z"
   },
   {
    "duration": 23,
    "start_time": "2022-12-25T21:02:59.623Z"
   },
   {
    "duration": 9,
    "start_time": "2022-12-25T21:02:59.647Z"
   },
   {
    "duration": 6,
    "start_time": "2022-12-25T21:02:59.722Z"
   },
   {
    "duration": 46,
    "start_time": "2022-12-26T09:56:00.658Z"
   },
   {
    "duration": 1250,
    "start_time": "2022-12-26T09:56:12.158Z"
   },
   {
    "duration": 12,
    "start_time": "2022-12-26T09:56:15.607Z"
   },
   {
    "duration": 41,
    "start_time": "2022-12-26T13:35:09.722Z"
   },
   {
    "duration": 1145,
    "start_time": "2022-12-26T13:35:16.013Z"
   },
   {
    "duration": 12,
    "start_time": "2022-12-26T13:35:17.160Z"
   },
   {
    "duration": 3,
    "start_time": "2022-12-26T13:35:17.173Z"
   },
   {
    "duration": 11,
    "start_time": "2022-12-26T13:35:17.178Z"
   },
   {
    "duration": 7,
    "start_time": "2022-12-26T13:35:17.191Z"
   },
   {
    "duration": 6,
    "start_time": "2022-12-26T13:35:17.199Z"
   },
   {
    "duration": 8,
    "start_time": "2022-12-26T13:35:17.207Z"
   },
   {
    "duration": 81,
    "start_time": "2022-12-26T13:35:17.218Z"
   },
   {
    "duration": 1720,
    "start_time": "2022-12-26T13:35:17.301Z"
   },
   {
    "duration": 12556,
    "start_time": "2022-12-26T13:35:19.023Z"
   },
   {
    "duration": 6486,
    "start_time": "2022-12-26T13:35:31.580Z"
   },
   {
    "duration": 24,
    "start_time": "2022-12-26T13:35:38.068Z"
   },
   {
    "duration": 24,
    "start_time": "2022-12-26T13:35:38.093Z"
   },
   {
    "duration": 6,
    "start_time": "2022-12-26T13:35:38.119Z"
   },
   {
    "duration": 76,
    "start_time": "2022-12-26T13:35:38.127Z"
   },
   {
    "duration": 2540,
    "start_time": "2022-12-26T20:30:41.580Z"
   },
   {
    "duration": 91,
    "start_time": "2022-12-26T20:30:44.122Z"
   },
   {
    "duration": 4,
    "start_time": "2022-12-26T20:30:44.215Z"
   },
   {
    "duration": 11,
    "start_time": "2022-12-26T20:30:44.220Z"
   },
   {
    "duration": 9,
    "start_time": "2022-12-26T20:30:44.233Z"
   },
   {
    "duration": 6,
    "start_time": "2022-12-26T20:30:44.243Z"
   },
   {
    "duration": 63,
    "start_time": "2022-12-26T20:30:44.251Z"
   },
   {
    "duration": 125,
    "start_time": "2022-12-26T20:30:44.315Z"
   },
   {
    "duration": 4577,
    "start_time": "2022-12-26T20:30:44.441Z"
   },
   {
    "duration": 23366,
    "start_time": "2022-12-26T20:30:49.021Z"
   },
   {
    "duration": 6116,
    "start_time": "2022-12-26T20:31:12.389Z"
   },
   {
    "duration": 25,
    "start_time": "2022-12-26T20:31:18.512Z"
   },
   {
    "duration": 10,
    "start_time": "2022-12-26T20:31:18.539Z"
   },
   {
    "duration": 4,
    "start_time": "2022-12-26T20:31:18.552Z"
   }
  ],
  "kernelspec": {
   "display_name": "Python 3 (ipykernel)",
   "language": "python",
   "name": "python3"
  },
  "language_info": {
   "codemirror_mode": {
    "name": "ipython",
    "version": 3
   },
   "file_extension": ".py",
   "mimetype": "text/x-python",
   "name": "python",
   "nbconvert_exporter": "python",
   "pygments_lexer": "ipython3",
   "version": "3.11.6"
  },
  "toc": {
   "base_numbering": 1,
   "nav_menu": {},
   "number_sections": true,
   "sideBar": true,
   "skip_h1_title": true,
   "title_cell": "Table of Contents",
   "title_sidebar": "Contents",
   "toc_cell": false,
   "toc_position": {
    "height": "calc(100% - 180px)",
    "left": "10px",
    "top": "150px",
    "width": "209.797px"
   },
   "toc_section_display": true,
   "toc_window_display": false
  }
 },
 "nbformat": 4,
 "nbformat_minor": 4
}
